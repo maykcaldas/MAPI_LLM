{
 "cells": [
  {
   "cell_type": "code",
   "execution_count": 15,
   "metadata": {},
   "outputs": [
    {
     "data": {
      "text/plain": [
       "True"
      ]
     },
     "execution_count": 15,
     "metadata": {},
     "output_type": "execute_result"
    }
   ],
   "source": [
    "from transformers import BertTokenizerFast\n",
    "import re \n",
    "import sys\n",
    "import os\n",
    "sys.path.append(os.path.join(os.path.dirname(\".\"), '../..'))\n",
    "\n",
    "import mapillm\n",
    "from mapillm.mapi_tools import MAPI_reg_tools\n",
    "from datasets import load_dataset\n",
    "\n",
    "from dotenv import load_dotenv\n",
    "load_dotenv(\"../.env\")\n"
   ]
  },
  {
   "cell_type": "code",
   "execution_count": 16,
   "metadata": {},
   "outputs": [
    {
     "name": "stdout",
     "output_type": "stream",
     "text": [
      "['nsites', 'nelements', 'formula_pretty', 'chemsys', 'volume', 'density', 'density_atomic', 'property_name', 'material_id', 'deprecation_reasons', 'last_updated', 'origins', 'warnings', 'structure', 'task_ids', 'uncorrected_energy_per_atom', 'energy_per_atom', 'formation_energy_per_atom', 'energy_above_hull', 'is_stable', 'equilibrium_reaction_energy_per_atom', 'xas', 'grain_boundaries', 'band_gap', 'cbm', 'vbm', 'efermi', 'is_gap_direct', 'is_metal', 'es_source_calc_id', 'dos_energy_up', 'dos_energy_down', 'is_magnetic', 'ordering', 'total_magnetization', 'total_magnetization_normalized_vol', 'total_magnetization_normalized_formula_units', 'num_magnetic_sites', 'num_unique_magnetic_sites', 'bulk_modulus', 'shear_modulus', 'universal_anisotropy', 'homogeneous_poisson', 'e_total', 'e_ionic', 'e_electronic', 'n', 'e_ij_max', 'weighted_surface_energy_EV_PER_ANG2', 'weighted_surface_energy', 'weighted_work_function', 'surface_anisotropy', 'shape_factor', 'has_reconstructed', 'has_props', 'theoretical', 'database_IDs', 'crystal_system', 'symbol', 'number', 'point_group']\n"
     ]
    }
   ],
   "source": [
    "dataset=load_dataset('ur-whitelab/mapi', token=os.environ['HF_TOKEN'])\n",
    "\n",
    "print(dataset['train'].column_names)\n",
    "\n",
    "target = [\"band_gap\"]\n",
    "# features=['formula_pretty', 'crystal_system', 'symbol', 'point_group']\n",
    "features=['formula_pretty', 'crystal_system', 'point_group']\n"
   ]
  },
  {
   "cell_type": "code",
   "execution_count": 17,
   "metadata": {},
   "outputs": [],
   "source": [
    "train_dataset = dataset['train'].select_columns(features+target)\n",
    "test_dataset = dataset['test'].select_columns(features+target)\n",
    "\n",
    "def filter_none(example):\n",
    "    return all(value is not None for value in example.values())\n",
    "\n",
    "train_dataset = train_dataset.filter(filter_none).to_pandas()\n",
    "test_dataset = test_dataset.filter(filter_none).to_pandas()"
   ]
  },
  {
   "cell_type": "code",
   "execution_count": 18,
   "metadata": {},
   "outputs": [],
   "source": [
    "from langchain.prompts.prompt import PromptTemplate\n",
    "from langchain.prompts.few_shot import FewShotPromptTemplate\n",
    "from langchain.prompts.example_selector import (MaxMarginalRelevanceExampleSelector, \n",
    "                                                SemanticSimilarityExampleSelector)\n",
    "from langchain_community.vectorstores import FAISS\n",
    "from langchain_openai import OpenAIEmbeddings\n",
    "\n",
    "\n",
    "examples = train_dataset.astype(str).drop_duplicates().dropna().to_dict(orient=\"records\")\n",
    "\n",
    "example_selector = MaxMarginalRelevanceExampleSelector.from_examples(\n",
    "                examples,\n",
    "                OpenAIEmbeddings(),\n",
    "                FAISS,\n",
    "                k=10,\n",
    "                )\n",
    "\n",
    "prompt_template=PromptTemplate(\n",
    "                  input_variables=[\"crystal_system\", \"formula_pretty\", \"point_group\", \"band_gap\"],\n",
    "                  template=f\"What is the band_gap for {{crystal_system}} {{formula_pretty}} with space group {{point_group}}?@@@\\n{{band_gap}}###\"\n",
    "              )\n",
    "    \n",
    "prefix=(\n",
    "    f'You are a bot who can predict the band_gap of a material .\\n'\n",
    "    f'Given this list of known materials and the measurement of their band gap, \\n'\n",
    "    f'you need to predict what is the band gap of the material:'\n",
    "    f'The answer should be numeric and finish with ###'\n",
    "    )\n",
    "suffix = f\"What is the band_gap for {{crystal_system}} {{formula_pretty}} with space group {{point_group}}?@@@\\n\"\n",
    "prompt = FewShotPromptTemplate(\n",
    "            # examples=examples,\n",
    "            example_prompt=prompt_template,\n",
    "            example_selector=example_selector,\n",
    "            prefix=prefix,\n",
    "            suffix=suffix,\n",
    "            input_variables=[\"crystal_system\", \"formula_pretty\", \"point_group\"])\n"
   ]
  },
  {
   "cell_type": "code",
   "execution_count": 19,
   "metadata": {},
   "outputs": [
    {
     "name": "stdout",
     "output_type": "stream",
     "text": [
      "Get atoms in material\n",
      "\tReceives a material formula and returns the atoms symbols present in it separated by comma.\n",
      "Checks if material is band gap by formula\n",
      "\tThis functions searches in the material project's API for the formula and returns if it is band gap or not.\n",
      "Create band gap context to LLM search\n",
      "\tThis function received a material formula as input and create a prompt to be inputed in the LLM_predict tool to predict the band gap of a material.\n",
      "LLM prediction\n",
      "\tThis function receives a prompt generate with context by the create_context_prompt tool and request a completion to a language model. Then returns the completion\n"
     ]
    }
   ],
   "source": [
    "band_gap_tool = MAPI_reg_tools(\n",
    "    \"band_gap\",\"band gap\"\n",
    ")\n",
    "tools = band_gap_tool.get_tools()\n",
    "for k in tools:\n",
    "    print(f\"{k.name}\\n\\t{k.description}\")\n",
    "get_material_atoms    = tools[0].func\n",
    "check_prop_by_formula = tools[1].func\n",
    "create_context_prompt = tools[2].func\n",
    "LLM_predict           = tools[3].func\n",
    "\n",
    "# I want to evaluate the tools doing something like that. But as the tools aren't ready, I'll just evaluate the ICL\n",
    "# check_prop_by_formula(formula = \"LiCoO2\")\n",
    "# get_material_atoms(formula = \"LiCoO2\")\n",
    "# prompt = create_context_prompt(formula = \"LiCoO2\")\n",
    "# print(prompt)\n",
    "# LLM_predict(prompt=prompt)"
   ]
  },
  {
   "cell_type": "code",
   "execution_count": 20,
   "metadata": {},
   "outputs": [],
   "source": [
    "import numpy as np\n",
    "import pandas as pd\n",
    "import matplotlib.pyplot as plt\n",
    "import urllib.request\n",
    "import matplotlib as mpl\n",
    "import matplotlib.font_manager as font_manager\n",
    "urllib.request.urlretrieve('https://github.com/google/fonts/raw/main/ofl/ibmplexmono/IBMPlexMono-Regular.ttf', 'IBMPlexMono-Regular.ttf')\n",
    "fe = font_manager.FontEntry(\n",
    "    fname='IBMPlexMono-Regular.ttf',\n",
    "    name='plexmono')\n",
    "font_manager.fontManager.ttflist.append(fe)\n",
    "plt.rcParams.update({'axes.facecolor':'#f5f4e9',\n",
    "            'grid.color' : '#AAAAAA',\n",
    "            'axes.edgecolor':'#333333',\n",
    "            'figure.facecolor':'#FFFFFF',\n",
    "            'axes.grid': False,\n",
    "            'axes.prop_cycle':   plt.cycler('color', plt.cm.Dark2.colors),\n",
    "            'font.family': fe.name,\n",
    "            'figure.figsize': (3.5,3.5 / 1.2),\n",
    "            'ytick.left': True,\n",
    "            'xtick.bottom': True\n",
    "           })"
   ]
  },
  {
   "cell_type": "code",
   "execution_count": 21,
   "metadata": {},
   "outputs": [],
   "source": [
    "from langchain_openai import ChatOpenAI\n",
    "\n",
    "llm = ChatOpenAI(\n",
    "          model_name=\"gpt-3.5-turbo-0125\",\n",
    "          temperature=0.1,\n",
    "          n=5,\n",
    "          # best_of=5,\n",
    "          # stop=[\"\\n\\n\", \"###\", \"#\", \"##\"],\n",
    "      )"
   ]
  },
  {
   "cell_type": "code",
   "execution_count": 22,
   "metadata": {},
   "outputs": [
    {
     "name": "stdout",
     "output_type": "stream",
     "text": [
      "(100,) (100,)\n"
     ]
    }
   ],
   "source": [
    "k=8\n",
    "\n",
    "import numpy as np\n",
    "import matplotlib.pyplot as plt\n",
    "from sklearn.metrics import mean_absolute_error, mean_squared_error\n",
    "\n",
    "yhat=[]\n",
    "y=[]\n",
    "for k in range(100):\n",
    "    try:\n",
    "        y.append(test_dataset.iloc[k][target])\n",
    "        \n",
    "        formula_pretty = test_dataset.iloc[k][\"formula_pretty\"]\n",
    "        crystal_system = test_dataset.iloc[k][\"crystal_system\"]\n",
    "        point_group = test_dataset.iloc[k][\"point_group\"]\n",
    "\n",
    "        p = prompt.format(crystal_system=crystal_system,\n",
    "                          formula_pretty=formula_pretty,\n",
    "                          point_group=point_group\n",
    "                          )\n",
    "        completion = llm.invoke([p]).content\n",
    "        pred = float(re.findall(r\"[-+]?\\d*\\.\\d+|\\d+\", completion)[0])\n",
    "        yhat.append(pred)\n",
    "    except Exception as e:\n",
    "        print(k, e)\n",
    "        yhat.append(-1)\n",
    "\n",
    "y = np.array(y).astype(float).flatten()\n",
    "yhat = np.array(yhat).astype(float).flatten()\n",
    "print(y.shape, yhat.shape)"
   ]
  },
  {
   "cell_type": "code",
   "execution_count": 23,
   "metadata": {},
   "outputs": [
    {
     "data": {
      "image/png": "[encoded data removed]",
      "text/plain": [
       "<Figure size 350x291.667 with 1 Axes>"
      ]
     },
     "metadata": {},
     "output_type": "display_data"
    }
   ],
   "source": [
    "lim = (min(y),max(y))\n",
    "plt.xlabel('True')\n",
    "plt.ylabel('Predicted')\n",
    "plt.plot(y, yhat, 'o', alpha=0.4)\n",
    "plt.plot(lim, lim, '--')\n",
    "plt.text(lim[0] + 0.1*(max(y)-min(y)), lim[1] - 1*0.1*(max(y)-min(y)), f\"correlation = {np.corrcoef(y, yhat)[0,1]:.3f}\")\n",
    "plt.text(lim[0] + 0.1*(max(y)-min(y)), lim[1] - 2*0.1*(max(y)-min(y)), f\"MAE = {mean_squared_error(y, yhat):.3f}\")\n",
    "plt.show()\n"
   ]
  }
 ],
 "metadata": {
  "kernelspec": {
   "display_name": "mapi",
   "language": "python",
   "name": "python3"
  },
  "language_info": {
   "codemirror_mode": {
    "name": "ipython",
    "version": 3
   },
   "file_extension": ".py",
   "mimetype": "text/x-python",
   "name": "python",
   "nbconvert_exporter": "python",
   "pygments_lexer": "ipython3",
   "version": "3.10.14"
  }
 },
 "nbformat": 4,
 "nbformat_minor": 2
}
