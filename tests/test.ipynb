{
 "cells": [
  {
   "cell_type": "code",
   "execution_count": 1,
   "metadata": {},
   "outputs": [
    {
     "name": "stderr",
     "output_type": "stream",
     "text": [
      "/Users/maykcaldas/miniconda3/envs/mapi/lib/python3.10/site-packages/tqdm/auto.py:21: TqdmWarning: IProgress not found. Please update jupyter and ipywidgets. See https://ipywidgets.readthedocs.io/en/stable/user_install.html\n",
      "  from .autonotebook import tqdm as notebook_tqdm\n"
     ]
    },
    {
     "name": "stdout",
     "output_type": "stream",
     "text": [
      "No module named 'phonopy'\n",
      "No module named 'phonopy'\n"
     ]
    }
   ],
   "source": [
    "import sys\n",
    "import os\n",
    "sys.path.insert(0, os.path.join(os.path.dirname(\".\"), '..'))\n",
    "\n",
    "from mp_api.client import MPRester\n",
    "from emmet.core.summary import HasProps\n",
    "\n",
    "import mapillm\n",
    "from mapillm.mapi_tools import MAPITools, MAPI_class_tools, MAPI_reg_tools\n",
    "from langchain_openai import ChatOpenAI"
   ]
  },
  {
   "cell_type": "code",
   "execution_count": null,
   "metadata": {},
   "outputs": [],
   "source": [
    "# Testing MaterialsProject API\n",
    "\n",
    "with MPRester(os.environ[\"MAPI_API_KEY\"]) as mpr:\n",
    "  docs = mpr.materials.summary.search(formula=\"Fe3O4\", fields=['formula_pretty', 'symmetry', 'n'])\n",
    "\n",
    "k=4\n",
    "print(docs[k].symmetry.crystal_system, docs[k].symmetry.symbol, docs[k].symmetry.point_group)"
   ]
  },
  {
   "cell_type": "code",
   "execution_count": null,
   "metadata": {},
   "outputs": [],
   "source": [
    "docs[0].model_dump()['symmetry']['crystal_system'].value"
   ]
  },
  {
   "cell_type": "code",
   "execution_count": null,
   "metadata": {},
   "outputs": [],
   "source": [
    "# Testing Classification workflow\n",
    "\n",
    "# t = MAPITools(\"is_magnetic\",\"magnetic\",\"Magnetic\",\"Not magnetic\")\n",
    "t = MAPI_class_tools(\"is_magnetic\",\"magnetic\",\"Magnetic\",\"Not magnetic\")\n",
    "formula = \"Fe2O4\"\n",
    "exist = t.check_prop_by_formula(formula)\n",
    "print(exist)\n",
    "prompt = t.create_context_prompt(formula)\n",
    "print(prompt)\n",
    "# t.LLM_predict(prompt)"
   ]
  },
  {
   "cell_type": "code",
   "execution_count": null,
   "metadata": {},
   "outputs": [],
   "source": [
    "# Testing Regression workflow\n",
    "\n",
    "# t = MAPITools(\"is_magnetic\",\"magnetic\",\"Magnetic\",\"Not magnetic\")\n",
    "t = MAPI_reg_tools(\"band_gap\",\"band gap\")\n",
    "formula = \"Fe2O4\"\n",
    "exist = t.check_prop_by_formula(formula)\n",
    "print(exist)\n",
    "prompt = t.create_context_prompt(formula)\n",
    "print(prompt)\n",
    "# t.LLM_predict(prompt)"
   ]
  },
  {
   "cell_type": "code",
   "execution_count": 2,
   "metadata": {},
   "outputs": [
    {
     "ename": "HTTPError",
     "evalue": "404 Client Error: Not Found for url: https://api.hub.langchain.com/commits/hwchase17/react-chat-agent/?limit=100&offset=0",
     "output_type": "error",
     "traceback": [
      "\u001b[0;31m---------------------------------------------------------------------------\u001b[0m",
      "\u001b[0;31mHTTPError\u001b[0m                                 Traceback (most recent call last)",
      "Cell \u001b[0;32mIn[2], line 5\u001b[0m\n\u001b[1;32m      2\u001b[0m \u001b[38;5;28;01mfrom\u001b[39;00m \u001b[38;5;21;01mdotenv\u001b[39;00m \u001b[38;5;28;01mimport\u001b[39;00m load_dotenv\n\u001b[1;32m      3\u001b[0m load_dotenv(\u001b[38;5;124m\"\u001b[39m\u001b[38;5;124m.env\u001b[39m\u001b[38;5;124m\"\u001b[39m, override\u001b[38;5;241m=\u001b[39m\u001b[38;5;28;01mTrue\u001b[39;00m)\n\u001b[0;32m----> 5\u001b[0m a \u001b[38;5;241m=\u001b[39m \u001b[43mmapillm\u001b[49m\u001b[38;5;241;43m.\u001b[39;49m\u001b[43mAgent\u001b[49m\u001b[43m(\u001b[49m\u001b[43mopenai_api_key\u001b[49m\u001b[38;5;241;43m=\u001b[39;49m\u001b[43mos\u001b[49m\u001b[38;5;241;43m.\u001b[39;49m\u001b[43mgetenv\u001b[49m\u001b[43m(\u001b[49m\u001b[38;5;124;43m\"\u001b[39;49m\u001b[38;5;124;43mOPENAI_API_KEY\u001b[39;49m\u001b[38;5;124;43m\"\u001b[39;49m\u001b[43m)\u001b[49m\u001b[43m,\u001b[49m\u001b[43m \u001b[49m\u001b[43mmapi_api_key\u001b[49m\u001b[38;5;241;43m=\u001b[39;49m\u001b[43mos\u001b[49m\u001b[38;5;241;43m.\u001b[39;49m\u001b[43mgetenv\u001b[49m\u001b[43m(\u001b[49m\u001b[38;5;124;43m\"\u001b[39;49m\u001b[38;5;124;43mMAPI_API_KEY\u001b[39;49m\u001b[38;5;124;43m\"\u001b[39;49m\u001b[43m)\u001b[49m\u001b[43m)\u001b[49m\n\u001b[1;32m      6\u001b[0m a\u001b[38;5;241m.\u001b[39mrun(\u001b[38;5;124m\"\u001b[39m\u001b[38;5;124mWhat\u001b[39m\u001b[38;5;124m'\u001b[39m\u001b[38;5;124ms the band gap of Fe2O4?\u001b[39m\u001b[38;5;124m\"\u001b[39m)\n\u001b[1;32m      7\u001b[0m \u001b[38;5;66;03m# a.run(\"Can you compute bandgap?\")\u001b[39;00m\n",
      "File \u001b[0;32m~/Documents/WhiteLab/MAPI_LLM/tests/../mapillm/agent.py:26\u001b[0m, in \u001b[0;36mAgent.__init__\u001b[0;34m(self, openai_api_key, mapi_api_key)\u001b[0m\n\u001b[1;32m     19\u001b[0m \u001b[38;5;28mself\u001b[39m\u001b[38;5;241m.\u001b[39mtools \u001b[38;5;241m=\u001b[39m (\n\u001b[1;32m     20\u001b[0m         mapi_tools \u001b[38;5;241m+\u001b[39m\n\u001b[1;32m     21\u001b[0m         \u001b[38;5;66;03m# reaction.get_tools() +\u001b[39;00m\n\u001b[1;32m     22\u001b[0m         \u001b[38;5;66;03m# agents.load_tools([\"llm-math\", \"python_repl\"], llm=self.llm) +\u001b[39;00m\n\u001b[1;32m     23\u001b[0m         common_tools\n\u001b[1;32m     24\u001b[0m     )\n\u001b[1;32m     25\u001b[0m \u001b[38;5;28mself\u001b[39m\u001b[38;5;241m.\u001b[39mprompt \u001b[38;5;241m=\u001b[39m hub\u001b[38;5;241m.\u001b[39mpull(\u001b[38;5;124m\"\u001b[39m\u001b[38;5;124mhwchase17/structured-chat-agent\u001b[39m\u001b[38;5;124m\"\u001b[39m)\n\u001b[0;32m---> 26\u001b[0m \u001b[38;5;28mself\u001b[39m\u001b[38;5;241m.\u001b[39mprompt \u001b[38;5;241m=\u001b[39m \u001b[43mhub\u001b[49m\u001b[38;5;241;43m.\u001b[39;49m\u001b[43mpull\u001b[49m\u001b[43m(\u001b[49m\u001b[38;5;124;43m\"\u001b[39;49m\u001b[38;5;124;43mhwchase17/react-chat-agent\u001b[39;49m\u001b[38;5;124;43m\"\u001b[39;49m\u001b[43m)\u001b[49m\n\u001b[1;32m     27\u001b[0m \u001b[38;5;28mself\u001b[39m\u001b[38;5;241m.\u001b[39magent \u001b[38;5;241m=\u001b[39m create_react_agent(\n\u001b[1;32m     28\u001b[0m     \u001b[38;5;28mself\u001b[39m\u001b[38;5;241m.\u001b[39mllm,\n\u001b[1;32m     29\u001b[0m     \u001b[38;5;28mself\u001b[39m\u001b[38;5;241m.\u001b[39mtools, \n\u001b[1;32m     30\u001b[0m     \u001b[38;5;28mself\u001b[39m\u001b[38;5;241m.\u001b[39mprompt\n\u001b[1;32m     31\u001b[0m     )\n\u001b[1;32m     33\u001b[0m \u001b[38;5;28mself\u001b[39m\u001b[38;5;241m.\u001b[39magent_executor \u001b[38;5;241m=\u001b[39m AgentExecutor(\n\u001b[1;32m     34\u001b[0m         agent\u001b[38;5;241m=\u001b[39m\u001b[38;5;28mself\u001b[39m\u001b[38;5;241m.\u001b[39magent, \n\u001b[1;32m     35\u001b[0m         tools\u001b[38;5;241m=\u001b[39m\u001b[38;5;28mself\u001b[39m\u001b[38;5;241m.\u001b[39mtools, \n\u001b[1;32m     36\u001b[0m         verbose\u001b[38;5;241m=\u001b[39m\u001b[38;5;28;01mTrue\u001b[39;00m, \n\u001b[1;32m     37\u001b[0m         handle_parsing_errors\u001b[38;5;241m=\u001b[39m\u001b[38;5;28;01mTrue\u001b[39;00m\n\u001b[1;32m     38\u001b[0m     )\n",
      "File \u001b[0;32m~/miniconda3/envs/mapi/lib/python3.10/site-packages/langchain/hub.py:86\u001b[0m, in \u001b[0;36mpull\u001b[0;34m(owner_repo_commit, api_url, api_key)\u001b[0m\n\u001b[1;32m     82\u001b[0m client \u001b[38;5;241m=\u001b[39m _get_client(api_url\u001b[38;5;241m=\u001b[39mapi_url, api_key\u001b[38;5;241m=\u001b[39mapi_key)\n\u001b[1;32m     84\u001b[0m \u001b[38;5;28;01mif\u001b[39;00m \u001b[38;5;28mhasattr\u001b[39m(client, \u001b[38;5;124m\"\u001b[39m\u001b[38;5;124mpull_repo\u001b[39m\u001b[38;5;124m\"\u001b[39m):\n\u001b[1;32m     85\u001b[0m     \u001b[38;5;66;03m# >= 0.1.15\u001b[39;00m\n\u001b[0;32m---> 86\u001b[0m     res_dict \u001b[38;5;241m=\u001b[39m \u001b[43mclient\u001b[49m\u001b[38;5;241;43m.\u001b[39;49m\u001b[43mpull_repo\u001b[49m\u001b[43m(\u001b[49m\u001b[43mowner_repo_commit\u001b[49m\u001b[43m)\u001b[49m\n\u001b[1;32m     87\u001b[0m     obj \u001b[38;5;241m=\u001b[39m loads(json\u001b[38;5;241m.\u001b[39mdumps(res_dict[\u001b[38;5;124m\"\u001b[39m\u001b[38;5;124mmanifest\u001b[39m\u001b[38;5;124m\"\u001b[39m]))\n\u001b[1;32m     88\u001b[0m     \u001b[38;5;28;01mif\u001b[39;00m \u001b[38;5;28misinstance\u001b[39m(obj, BasePromptTemplate):\n",
      "File \u001b[0;32m~/miniconda3/envs/mapi/lib/python3.10/site-packages/langchainhub/client.py:252\u001b[0m, in \u001b[0;36mClient.pull_repo\u001b[0;34m(self, owner_repo_commit)\u001b[0m\n\u001b[1;32m    250\u001b[0m owner, repo, commit_hash \u001b[38;5;241m=\u001b[39m parse_owner_repo_commit(owner_repo_commit)\n\u001b[1;32m    251\u001b[0m \u001b[38;5;28;01mif\u001b[39;00m commit_hash \u001b[38;5;129;01mis\u001b[39;00m \u001b[38;5;28;01mNone\u001b[39;00m \u001b[38;5;129;01mor\u001b[39;00m commit_hash \u001b[38;5;241m==\u001b[39m \u001b[38;5;124m\"\u001b[39m\u001b[38;5;124mlatest\u001b[39m\u001b[38;5;124m\"\u001b[39m:\n\u001b[0;32m--> 252\u001b[0m     commit_hash \u001b[38;5;241m=\u001b[39m \u001b[38;5;28;43mself\u001b[39;49m\u001b[38;5;241;43m.\u001b[39;49m\u001b[43m_get_latest_commit_hash\u001b[49m\u001b[43m(\u001b[49m\u001b[38;5;124;43mf\u001b[39;49m\u001b[38;5;124;43m\"\u001b[39;49m\u001b[38;5;132;43;01m{\u001b[39;49;00m\u001b[43mowner\u001b[49m\u001b[38;5;132;43;01m}\u001b[39;49;00m\u001b[38;5;124;43m/\u001b[39;49m\u001b[38;5;132;43;01m{\u001b[39;49;00m\u001b[43mrepo\u001b[49m\u001b[38;5;132;43;01m}\u001b[39;49;00m\u001b[38;5;124;43m\"\u001b[39;49m\u001b[43m)\u001b[49m\n\u001b[1;32m    253\u001b[0m     \u001b[38;5;28;01mif\u001b[39;00m commit_hash \u001b[38;5;129;01mis\u001b[39;00m \u001b[38;5;28;01mNone\u001b[39;00m:\n\u001b[1;32m    254\u001b[0m         \u001b[38;5;28;01mraise\u001b[39;00m \u001b[38;5;167;01mValueError\u001b[39;00m(\u001b[38;5;124m\"\u001b[39m\u001b[38;5;124mNo commits found\u001b[39m\u001b[38;5;124m\"\u001b[39m)\n",
      "File \u001b[0;32m~/miniconda3/envs/mapi/lib/python3.10/site-packages/langchainhub/client.py:177\u001b[0m, in \u001b[0;36mClient._get_latest_commit_hash\u001b[0;34m(self, repo_full_name)\u001b[0m\n\u001b[1;32m    176\u001b[0m \u001b[38;5;28;01mdef\u001b[39;00m \u001b[38;5;21m_get_latest_commit_hash\u001b[39m(\u001b[38;5;28mself\u001b[39m, repo_full_name: \u001b[38;5;28mstr\u001b[39m) \u001b[38;5;241m-\u001b[39m\u001b[38;5;241m>\u001b[39m Optional[\u001b[38;5;28mstr\u001b[39m]:\n\u001b[0;32m--> 177\u001b[0m     commits_resp \u001b[38;5;241m=\u001b[39m \u001b[38;5;28;43mself\u001b[39;49m\u001b[38;5;241;43m.\u001b[39;49m\u001b[43mlist_commits\u001b[49m\u001b[43m(\u001b[49m\u001b[43mrepo_full_name\u001b[49m\u001b[43m)\u001b[49m\n\u001b[1;32m    178\u001b[0m     commits \u001b[38;5;241m=\u001b[39m commits_resp[\u001b[38;5;124m\"\u001b[39m\u001b[38;5;124mcommits\u001b[39m\u001b[38;5;124m\"\u001b[39m]\n\u001b[1;32m    179\u001b[0m     \u001b[38;5;28;01mif\u001b[39;00m \u001b[38;5;28mlen\u001b[39m(commits) \u001b[38;5;241m==\u001b[39m \u001b[38;5;241m0\u001b[39m:\n",
      "File \u001b[0;32m~/miniconda3/envs/mapi/lib/python3.10/site-packages/langchainhub/client.py:155\u001b[0m, in \u001b[0;36mClient.list_commits\u001b[0;34m(self, repo_full_name, limit, offset)\u001b[0m\n\u001b[1;32m    150\u001b[0m \u001b[38;5;28;01mdef\u001b[39;00m \u001b[38;5;21mlist_commits\u001b[39m(\u001b[38;5;28mself\u001b[39m, repo_full_name: \u001b[38;5;28mstr\u001b[39m, limit: \u001b[38;5;28mint\u001b[39m \u001b[38;5;241m=\u001b[39m \u001b[38;5;241m100\u001b[39m, offset: \u001b[38;5;28mint\u001b[39m \u001b[38;5;241m=\u001b[39m \u001b[38;5;241m0\u001b[39m):\n\u001b[1;32m    151\u001b[0m     res \u001b[38;5;241m=\u001b[39m requests\u001b[38;5;241m.\u001b[39mget(\n\u001b[1;32m    152\u001b[0m         \u001b[38;5;124mf\u001b[39m\u001b[38;5;124m\"\u001b[39m\u001b[38;5;132;01m{\u001b[39;00m\u001b[38;5;28mself\u001b[39m\u001b[38;5;241m.\u001b[39mapi_url\u001b[38;5;132;01m}\u001b[39;00m\u001b[38;5;124m/commits/\u001b[39m\u001b[38;5;132;01m{\u001b[39;00mrepo_full_name\u001b[38;5;132;01m}\u001b[39;00m\u001b[38;5;124m/?limit=\u001b[39m\u001b[38;5;132;01m{\u001b[39;00mlimit\u001b[38;5;132;01m}\u001b[39;00m\u001b[38;5;124m&offset=\u001b[39m\u001b[38;5;132;01m{\u001b[39;00moffset\u001b[38;5;132;01m}\u001b[39;00m\u001b[38;5;124m\"\u001b[39m,\n\u001b[1;32m    153\u001b[0m         headers\u001b[38;5;241m=\u001b[39m\u001b[38;5;28mself\u001b[39m\u001b[38;5;241m.\u001b[39m_get_headers(),\n\u001b[1;32m    154\u001b[0m     )\n\u001b[0;32m--> 155\u001b[0m     \u001b[43mres\u001b[49m\u001b[38;5;241;43m.\u001b[39;49m\u001b[43mraise_for_status\u001b[49m\u001b[43m(\u001b[49m\u001b[43m)\u001b[49m\n\u001b[1;32m    156\u001b[0m     \u001b[38;5;28;01mreturn\u001b[39;00m res\u001b[38;5;241m.\u001b[39mjson()\n",
      "File \u001b[0;32m~/miniconda3/envs/mapi/lib/python3.10/site-packages/requests/models.py:1021\u001b[0m, in \u001b[0;36mResponse.raise_for_status\u001b[0;34m(self)\u001b[0m\n\u001b[1;32m   1016\u001b[0m     http_error_msg \u001b[38;5;241m=\u001b[39m (\n\u001b[1;32m   1017\u001b[0m         \u001b[38;5;124mf\u001b[39m\u001b[38;5;124m\"\u001b[39m\u001b[38;5;132;01m{\u001b[39;00m\u001b[38;5;28mself\u001b[39m\u001b[38;5;241m.\u001b[39mstatus_code\u001b[38;5;132;01m}\u001b[39;00m\u001b[38;5;124m Server Error: \u001b[39m\u001b[38;5;132;01m{\u001b[39;00mreason\u001b[38;5;132;01m}\u001b[39;00m\u001b[38;5;124m for url: \u001b[39m\u001b[38;5;132;01m{\u001b[39;00m\u001b[38;5;28mself\u001b[39m\u001b[38;5;241m.\u001b[39murl\u001b[38;5;132;01m}\u001b[39;00m\u001b[38;5;124m\"\u001b[39m\n\u001b[1;32m   1018\u001b[0m     )\n\u001b[1;32m   1020\u001b[0m \u001b[38;5;28;01mif\u001b[39;00m http_error_msg:\n\u001b[0;32m-> 1021\u001b[0m     \u001b[38;5;28;01mraise\u001b[39;00m HTTPError(http_error_msg, response\u001b[38;5;241m=\u001b[39m\u001b[38;5;28mself\u001b[39m)\n",
      "\u001b[0;31mHTTPError\u001b[0m: 404 Client Error: Not Found for url: https://api.hub.langchain.com/commits/hwchase17/react-chat-agent/?limit=100&offset=0"
     ]
    }
   ],
   "source": [
    "import os\n",
    "from dotenv import load_dotenv\n",
    "load_dotenv(\".env\", override=True)\n",
    "\n",
    "a = mapillm.Agent(openai_api_key=os.getenv(\"OPENAI_API_KEY\"), mapi_api_key=os.getenv(\"MAPI_API_KEY\"))\n",
    "a.run(\"What's the band gap of Fe2O4?\")\n",
    "# a.run(\"Can you compute bandgap?\")\n"
   ]
  },
  {
   "cell_type": "code",
   "execution_count": 3,
   "metadata": {},
   "outputs": [
    {
     "name": "stdout",
     "output_type": "stream",
     "text": [
      "\n",
      "\n",
      "\u001b[1m> Entering new AgentExecutor chain...\u001b[0m\n",
      "\u001b[32;1m\u001b[1;3mI need to first check if Fe2O3 is stable and then create a context for LLM prediction to determine the enthalpy of formation.\n",
      "Action: Checks if material is stable by formula\n",
      "Action Input: Fe2O3\u001b[0m"
     ]
    },
    {
     "name": "stderr",
     "output_type": "stream",
     "text": [
      "Retrieving SummaryDoc documents: 100%|██████████| 26/26 [00:00<00:00, 38808.51it/s]\n",
      "/Users/maykcaldas/Documents/WhiteLab/MAPI_LLM/tests/../mapillm/mapi_tools.py:117: UserWarning: More than one material found for Fe2O3. Will use the first one. Please, check the results.\n",
      "  warnings.warn(f\"More than one material found for {formula}. Will use the first one. Please, check the results.\")\n"
     ]
    },
    {
     "name": "stdout",
     "output_type": "stream",
     "text": [
      "\u001b[33;1m\u001b[1;3mFe2O3 is Unstable\u001b[0m\u001b[32;1m\u001b[1;3mFe2O3 is unstable, so I cannot proceed with predicting the enthalpy of formation.\n",
      "Final Answer: Fe2O3 is unstable, so the enthalpy of formation cannot be determined.\u001b[0m\n",
      "\n",
      "\u001b[1m> Finished chain.\u001b[0m\n"
     ]
    },
    {
     "data": {
      "text/plain": [
       "{'input': \"What's the enthalpy of formation of Fe2O3?\",\n",
       " 'output': 'Fe2O3 is unstable, so the enthalpy of formation cannot be determined.'}"
      ]
     },
     "execution_count": 3,
     "metadata": {},
     "output_type": "execute_result"
    }
   ],
   "source": [
    "import os\n",
    "from dotenv import load_dotenv\n",
    "load_dotenv(\".env\", override=True)\n",
    "\n",
    "a = mapillm.Agent(openai_api_key=os.getenv(\"OPENAI_API_KEY\"), mapi_api_key=os.getenv(\"MAPI_API_KEY\"))\n",
    "a.run(\"What's the enthalpy of formation of Fe2O3?\")\n"
   ]
  },
  {
   "cell_type": "code",
   "execution_count": 6,
   "metadata": {},
   "outputs": [
    {
     "name": "stdout",
     "output_type": "stream",
     "text": [
      "\n",
      "\n",
      "\u001b[1m> Entering new AgentExecutor chain...\u001b[0m\n",
      "\u001b[32;1m\u001b[1;3mWe need to determine the enthalpy of formation of Fe3O4.\n",
      "Action: Checks if material is formation energy per atom gap by formula\n",
      "Action Input: Fe3O4\u001b[0m"
     ]
    },
    {
     "name": "stderr",
     "output_type": "stream",
     "text": [
      "Retrieving SummaryDoc documents: 100%|██████████| 29/29 [00:00<00:00, 467826.22it/s]\n",
      "/Users/maykcaldas/Documents/WhiteLab/MAPI_LLM/tests/../mapillm/mapi_tools.py:170: UserWarning: More than one material found for Fe3O4. Will use the first one. Please, check the results.\n",
      "  warnings.warn(f\"More than one material found for {formula}. Will use the first one. Please, check the results.\")\n"
     ]
    },
    {
     "name": "stdout",
     "output_type": "stream",
     "text": [
      "\u001b[33;1m\u001b[1;3mFe3O4 formation energy per atom gap is -1.6254769257142843\u001b[0m\u001b[32;1m\u001b[1;3mWe have the formation energy per atom gap of Fe3O4.\n",
      "Action: Get atoms in material's formula while computing formation energy per atom gap\n",
      "Action Input: Fe3O4\u001b[0m\u001b[36;1m\u001b[1;3mFe,O\u001b[0m\u001b[32;1m\u001b[1;3mWe have the atoms present in the formula of Fe3O4 and the formation energy per atom gap.\n",
      "Final Answer: The enthalpy of formation of Fe3O4 is -1.6254769257142843 eV/atom.\u001b[0m\n",
      "\n",
      "\u001b[1m> Finished chain.\u001b[0m\n"
     ]
    },
    {
     "data": {
      "text/plain": [
       "{'input': \"What's the enthalpy of formation of Fe3O4? Please, answer with the correct units.\",\n",
       " 'output': 'The enthalpy of formation of Fe3O4 is -1.6254769257142843 eV/atom.'}"
      ]
     },
     "execution_count": 6,
     "metadata": {},
     "output_type": "execute_result"
    }
   ],
   "source": [
    "import os\n",
    "from dotenv import load_dotenv\n",
    "load_dotenv(\".env\", override=True)\n",
    "\n",
    "a = mapillm.Agent(openai_api_key=os.getenv(\"OPENAI_API_KEY\"), mapi_api_key=os.getenv(\"MAPI_API_KEY\"))\n",
    "a.run(\"What's the enthalpy of formation of Fe3O4? Please, answer with the correct units.\")\n"
   ]
  }
 ],
 "metadata": {
  "kernelspec": {
   "display_name": "mapi",
   "language": "python",
   "name": "python3"
  },
  "language_info": {
   "codemirror_mode": {
    "name": "ipython",
    "version": 3
   },
   "file_extension": ".py",
   "mimetype": "text/x-python",
   "name": "python",
   "nbconvert_exporter": "python",
   "pygments_lexer": "ipython3",
   "version": "3.10.14"
  }
 },
 "nbformat": 4,
 "nbformat_minor": 2
}
