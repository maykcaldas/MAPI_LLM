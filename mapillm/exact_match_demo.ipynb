{
 "cells": [
  {
   "cell_type": "code",
   "execution_count": 1,
   "metadata": {},
   "outputs": [
    {
     "name": "stderr",
     "output_type": "stream",
     "text": [
      "/Users/samcox/anaconda3/envs/mapi/lib/python3.12/site-packages/tqdm/auto.py:21: TqdmWarning: IProgress not found. Please update jupyter and ipywidgets. See https://ipywidgets.readthedocs.io/en/stable/user_install.html\n",
      "  from .autonotebook import tqdm as notebook_tqdm\n"
     ]
    }
   ],
   "source": [
    "import os\n",
    "from mp_api.client import MPRester\n",
    "os.environ[\"MAPI_API_KEY\"] = \"MY_API_KEY\"\n",
    "mpr = MPRester(os.getenv(\"MAPI_API_KEY\")) "
   ]
  },
  {
   "cell_type": "code",
   "execution_count": 2,
   "metadata": {},
   "outputs": [],
   "source": [
    "from exact_matching import ExactMatchingTool\n",
    "exact_matching = ExactMatchingTool()"
   ]
  },
  {
   "cell_type": "markdown",
   "metadata": {},
   "source": [
    "### Case 1: We know the formula, density, and the symmetry info (lattice & space group)"
   ]
  },
  {
   "cell_type": "code",
   "execution_count": 4,
   "metadata": {},
   "outputs": [],
   "source": [
    "formula=\"LiCoO2\"\n",
    "space_group = 12\n",
    "lattice=\"Monoclinic\"\n",
    "density=4.7\n",
    "prop=\"band_gap\"\n",
    "\n",
    "input_dict_full = {\"formula\": formula, \"space_group_num\": space_group, \"lattice\": lattice, \"density\": density, \"desired_prop\": prop}\n",
    "results = exact_matching.query_material_property(**input_dict_full, one_only=False)"
   ]
  },
  {
   "cell_type": "code",
   "execution_count": 5,
   "metadata": {},
   "outputs": [
    {
     "data": {
      "text/plain": [
       "[\u001b[4m\u001b[1mMPDataDoc<SummaryDoc>\u001b[0;0m\u001b[0;0m(\n",
       " \u001b[1mformula_pretty\u001b[0;0m='LiCoO2',\n",
       " \u001b[1mdensity\u001b[0;0m=4.6776427564172245,\n",
       " \u001b[1msymmetry\u001b[0;0m=SymmetryData(crystal_system=<CrystalSystem.mono: 'Monoclinic'>, symbol='C2/m', number=12, point_group='2/m', symprec=0.1, version='2.0.2'),\n",
       " \u001b[1mband_gap\u001b[0;0m=2.0128000000000004,\n",
       " \u001b[1mfields_not_requested\u001b[0;0m=['builder_meta', 'nsites', 'elements', 'nelements', 'composition', 'composition_reduced', 'formula_anonymous', 'chemsys', 'volume', 'density_atomic', 'property_name', 'material_id', 'deprecated', 'deprecation_reasons', 'last_updated', 'origins', 'warnings', 'structure', 'task_ids', 'uncorrected_energy_per_atom', 'energy_per_atom', 'formation_energy_per_atom', 'energy_above_hull', 'is_stable', 'equilibrium_reaction_energy_per_atom', 'decomposes_to', 'xas', 'grain_boundaries', 'cbm', 'vbm', 'efermi', 'is_gap_direct', 'is_metal', 'es_source_calc_id', 'bandstructure', 'dos', 'dos_energy_up', 'dos_energy_down', 'is_magnetic', 'ordering', 'total_magnetization', 'total_magnetization_normalized_vol', 'total_magnetization_normalized_formula_units', 'num_magnetic_sites', 'num_unique_magnetic_sites', 'types_of_magnetic_species', 'bulk_modulus', 'shear_modulus', 'universal_anisotropy', 'homogeneous_poisson', 'e_total', 'e_ionic', 'e_electronic', 'n', 'e_ij_max', 'weighted_surface_energy_EV_PER_ANG2', 'weighted_surface_energy', 'weighted_work_function', 'surface_anisotropy', 'shape_factor', 'has_reconstructed', 'possible_species', 'has_props', 'theoretical', 'database_IDs']\n",
       " )]"
      ]
     },
     "execution_count": 5,
     "metadata": {},
     "output_type": "execute_result"
    }
   ],
   "source": [
    "results"
   ]
  },
  {
   "cell_type": "code",
   "execution_count": 6,
   "metadata": {},
   "outputs": [
    {
     "name": "stdout",
     "output_type": "stream",
     "text": [
      "Property band_gap: [2.0128000000000004]\n"
     ]
    }
   ],
   "source": [
    "#just the property\n",
    "print (f\"Property {prop}: {exact_matching._get_prop(results, prop)}\")"
   ]
  },
  {
   "cell_type": "markdown",
   "metadata": {},
   "source": [
    "### Case 2: We know less information"
   ]
  },
  {
   "cell_type": "code",
   "execution_count": 7,
   "metadata": {},
   "outputs": [],
   "source": [
    "formula=\"LiCoO2\"\n",
    "#space_group = 12\n",
    "lattice=\"Monoclinic\"\n",
    "#density=4.7\n",
    "prop=\"band_gap\"\n",
    "\n",
    "input_dict_missing = {\"formula\": formula, \"desired_prop\": prop}\n",
    "results = exact_matching.query_material_property(**input_dict_missing, one_only=False)"
   ]
  },
  {
   "cell_type": "code",
   "execution_count": 8,
   "metadata": {},
   "outputs": [
    {
     "data": {
      "text/plain": [
       "9"
      ]
     },
     "execution_count": 8,
     "metadata": {},
     "output_type": "execute_result"
    }
   ],
   "source": [
    "len(results)"
   ]
  },
  {
   "cell_type": "code",
   "execution_count": 9,
   "metadata": {},
   "outputs": [
    {
     "name": "stdout",
     "output_type": "stream",
     "text": [
      "Property band_gap: 0.8278000000000001\n"
     ]
    }
   ],
   "source": [
    "#hm...there are 9 resutls. Lets get the average overal all of them\n",
    "\n",
    "average_prop = exact_matching.average_vanilla(results, prop)\n",
    "print (f\"Property {prop}: {average_prop}\")"
   ]
  },
  {
   "cell_type": "markdown",
   "metadata": {},
   "source": [
    "### Case 3: There are no results for what we want to know about"
   ]
  },
  {
   "cell_type": "code",
   "execution_count": 10,
   "metadata": {},
   "outputs": [],
   "source": [
    "formula = \"LiFePO4\"\n",
    "space_group = 250\n",
    "lattice = \"Cubic\"\n",
    "density = 4.87\n",
    "prop = \"band_gap\"\n",
    "\n",
    "input_dict_no_results = {\"formula\": formula, \"space_group_num\": space_group, \"lattice\": lattice, \"density\": density, \"desired_prop\": prop}\n",
    "\n",
    "results = exact_matching.query_material_property(**input_dict_no_results, one_only=False)"
   ]
  },
  {
   "cell_type": "code",
   "execution_count": 11,
   "metadata": {},
   "outputs": [
    {
     "data": {
      "text/plain": [
       "[]"
      ]
     },
     "execution_count": 11,
     "metadata": {},
     "output_type": "execute_result"
    }
   ],
   "source": [
    "results"
   ]
  },
  {
   "cell_type": "code",
   "execution_count": 12,
   "metadata": {},
   "outputs": [],
   "source": [
    "#Hm...its blank. Lets try to get the average of all the nearest neighbors\n",
    "nearest_neighbor_avg = exact_matching.get_weighted_average_of_neighbors(input_dict_no_results)"
   ]
  },
  {
   "cell_type": "code",
   "execution_count": 13,
   "metadata": {},
   "outputs": [
    {
     "name": "stdout",
     "output_type": "stream",
     "text": [
      "Property band_gap: 3.1868915094339627\n"
     ]
    }
   ],
   "source": [
    "print (f\"Property {prop}: {nearest_neighbor_avg}\")"
   ]
  },
  {
   "cell_type": "markdown",
   "metadata": {},
   "source": [
    "### Putting it all together"
   ]
  },
  {
   "cell_type": "code",
   "execution_count": 14,
   "metadata": {},
   "outputs": [
    {
     "name": "stdout",
     "output_type": "stream",
     "text": [
      "Warning: multiple matches found. Returning average of all matches. To get all matches, set one_only=False.\n",
      "Property band_gap: 2.0128000000000004\n"
     ]
    }
   ],
   "source": [
    "#case 1:\n",
    "formula=\"LiCoO2\"\n",
    "space_group = 12\n",
    "lattice=\"Monoclinic\"\n",
    "density=4.7\n",
    "prop=\"band_gap\"\n",
    "\n",
    "input_dict_full = {\"formula\": formula, \"space_group_num\": space_group, \"lattice\": lattice, \"density\": density, \"desired_prop\": prop}\n",
    "\n",
    "results = exact_matching.get_prop(**input_dict_full)\n",
    "print (f\"Property {prop}: {results}\")"
   ]
  },
  {
   "cell_type": "code",
   "execution_count": 15,
   "metadata": {},
   "outputs": [
    {
     "name": "stdout",
     "output_type": "stream",
     "text": [
      "Warning: multiple matches found. Returning average of all matches. To get all matches, set one_only=False.\n",
      "Property band_gap: 0.8278000000000001\n"
     ]
    }
   ],
   "source": [
    "#case 2:\n",
    "formula=\"LiCoO2\"\n",
    "lattice=\"Monoclinic\"\n",
    "prop=\"band_gap\"\n",
    "\n",
    "input_dict_missing = {\"formula\": formula, \"desired_prop\": prop}\n",
    "\n",
    "results = exact_matching.get_prop(**input_dict_missing)\n",
    "print (f\"Property {prop}: {results}\")"
   ]
  },
  {
   "cell_type": "code",
   "execution_count": 16,
   "metadata": {},
   "outputs": [
    {
     "name": "stdout",
     "output_type": "stream",
     "text": [
      "Warning: no matches found. Returning the average of closet matches.\n",
      "Property band_gap: 3.1868915094339627\n"
     ]
    }
   ],
   "source": [
    "#case 3:\n",
    "formula = \"LiFePO4\"\n",
    "space_group = 250\n",
    "lattice = \"Cubic\"\n",
    "density = 4.87\n",
    "prop = \"band_gap\"\n",
    "\n",
    "input_dict_no_results = {\"formula\": formula, \"space_group_num\": space_group, \"lattice\": lattice, \"density\": density, \"desired_prop\": prop}\n",
    "\n",
    "results = exact_matching.get_prop(**input_dict_no_results)\n",
    "print (f\"Property {prop}: {results}\")"
   ]
  }
 ],
 "metadata": {
  "kernelspec": {
   "display_name": "mapi",
   "language": "python",
   "name": "python3"
  },
  "language_info": {
   "codemirror_mode": {
    "name": "ipython",
    "version": 3
   },
   "file_extension": ".py",
   "mimetype": "text/x-python",
   "name": "python",
   "nbconvert_exporter": "python",
   "pygments_lexer": "ipython3",
   "version": "3.12.2"
  },
  "orig_nbformat": 4
 },
 "nbformat": 4,
 "nbformat_minor": 2
}
